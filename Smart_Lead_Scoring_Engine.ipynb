{
 "cells": [
  {
   "cell_type": "markdown",
   "id": "294b9cd5",
   "metadata": {},
   "source": [
    "<h1> Smart Lead Scoring Engine"
   ]
  },
  {
   "cell_type": "markdown",
   "id": "7fa5db42",
   "metadata": {},
   "source": [
    "<h4>Import Relevant Libraries"
   ]
  },
  {
   "cell_type": "code",
   "execution_count": 2,
   "id": "9bfaf35c",
   "metadata": {},
   "outputs": [],
   "source": [
    "import  warnings\n",
    "warnings.filterwarnings(\"ignore\")\n",
    "import pickle\n",
    "import numpy as np\n",
    "import pandas as pd\n",
    "import seaborn as sns\n",
    "import matplotlib.pyplot as plt\n",
    "from sklearn.preprocessing import StandardScaler\n",
    "from sklearn.ensemble import ExtraTreesClassifier\n",
    "from sklearn.ensemble import RandomForestClassifier\n",
    "from sklearn.model_selection import train_test_split\n",
    "from sklearn.metrics import accuracy_score,confusion_matrix,classification_report"
   ]
  },
  {
   "cell_type": "markdown",
   "id": "1bad146b",
   "metadata": {},
   "source": [
    "<h4>Import dataset"
   ]
  },
  {
   "cell_type": "code",
   "execution_count": 5,
   "id": "06fd5fe8",
   "metadata": {},
   "outputs": [],
   "source": [
    "df=pd.read_csv(\"train_wn75k28.csv\")"
   ]
  },
  {
   "cell_type": "markdown",
   "id": "36e296f4",
   "metadata": {},
   "source": [
    "<h4> Setting parameters"
   ]
  },
  {
   "cell_type": "code",
   "execution_count": 6,
   "id": "a1e3420a",
   "metadata": {},
   "outputs": [],
   "source": [
    "# setting matplotlib parameters \n",
    "params = {'legend.fontsize': 'x-large',\n",
    "          'figure.figsize': (6,6),\n",
    "         'axes.labelsize': 'x-large',\n",
    "         'axes.titlesize':'x-large',\n",
    "         'xtick.labelsize':'x-large',\n",
    "         'ytick.labelsize':'x-large',\n",
    "         'xtick.color':'white',\n",
    "         'ytick.color':'white'\n",
    "         }\n",
    "\n",
    "plt.rcParams.update(params)\n",
    "%matplotlib inline"
   ]
  },
  {
   "cell_type": "code",
   "execution_count": 7,
   "id": "4fffbf14",
   "metadata": {},
   "outputs": [],
   "source": [
    "# setting seaborn parameters\n",
    "sns.set_style(\"whitegrid\")\n",
    "sns.set(rc={'figure.figsize':(6,6)})"
   ]
  },
  {
   "cell_type": "markdown",
   "id": "46d38f88",
   "metadata": {},
   "source": [
    "<h4>EDA"
   ]
  },
  {
   "cell_type": "code",
   "execution_count": 8,
   "id": "a7c3a743",
   "metadata": {},
   "outputs": [
    {
     "data": {
      "text/html": [
       "<div>\n",
       "<style scoped>\n",
       "    .dataframe tbody tr th:only-of-type {\n",
       "        vertical-align: middle;\n",
       "    }\n",
       "\n",
       "    .dataframe tbody tr th {\n",
       "        vertical-align: top;\n",
       "    }\n",
       "\n",
       "    .dataframe thead th {\n",
       "        text-align: right;\n",
       "    }\n",
       "</style>\n",
       "<table border=\"1\" class=\"dataframe\">\n",
       "  <thead>\n",
       "    <tr style=\"text-align: right;\">\n",
       "      <th></th>\n",
       "      <th>id</th>\n",
       "      <th>created_at</th>\n",
       "      <th>campaign_var_1</th>\n",
       "      <th>campaign_var_2</th>\n",
       "      <th>products_purchased</th>\n",
       "      <th>signup_date</th>\n",
       "      <th>user_activity_var_1</th>\n",
       "      <th>user_activity_var_2</th>\n",
       "      <th>user_activity_var_3</th>\n",
       "      <th>user_activity_var_4</th>\n",
       "      <th>user_activity_var_5</th>\n",
       "      <th>user_activity_var_6</th>\n",
       "      <th>user_activity_var_7</th>\n",
       "      <th>user_activity_var_8</th>\n",
       "      <th>user_activity_var_9</th>\n",
       "      <th>user_activity_var_10</th>\n",
       "      <th>user_activity_var_11</th>\n",
       "      <th>user_activity_var_12</th>\n",
       "      <th>buy</th>\n",
       "    </tr>\n",
       "  </thead>\n",
       "  <tbody>\n",
       "    <tr>\n",
       "      <th>0</th>\n",
       "      <td>1</td>\n",
       "      <td>01-01-2021</td>\n",
       "      <td>1</td>\n",
       "      <td>2</td>\n",
       "      <td>2.0</td>\n",
       "      <td>24-09-2020</td>\n",
       "      <td>0</td>\n",
       "      <td>0</td>\n",
       "      <td>0</td>\n",
       "      <td>0</td>\n",
       "      <td>0</td>\n",
       "      <td>0</td>\n",
       "      <td>1</td>\n",
       "      <td>1</td>\n",
       "      <td>0</td>\n",
       "      <td>0</td>\n",
       "      <td>0</td>\n",
       "      <td>0</td>\n",
       "      <td>0</td>\n",
       "    </tr>\n",
       "    <tr>\n",
       "      <th>1</th>\n",
       "      <td>2</td>\n",
       "      <td>01-01-2021</td>\n",
       "      <td>2</td>\n",
       "      <td>1</td>\n",
       "      <td>2.0</td>\n",
       "      <td>19-09-2020</td>\n",
       "      <td>1</td>\n",
       "      <td>0</td>\n",
       "      <td>1</td>\n",
       "      <td>0</td>\n",
       "      <td>0</td>\n",
       "      <td>0</td>\n",
       "      <td>1</td>\n",
       "      <td>0</td>\n",
       "      <td>0</td>\n",
       "      <td>0</td>\n",
       "      <td>0</td>\n",
       "      <td>0</td>\n",
       "      <td>0</td>\n",
       "    </tr>\n",
       "    <tr>\n",
       "      <th>2</th>\n",
       "      <td>3</td>\n",
       "      <td>01-01-2021</td>\n",
       "      <td>9</td>\n",
       "      <td>3</td>\n",
       "      <td>3.0</td>\n",
       "      <td>11-08-2021</td>\n",
       "      <td>1</td>\n",
       "      <td>0</td>\n",
       "      <td>0</td>\n",
       "      <td>0</td>\n",
       "      <td>0</td>\n",
       "      <td>0</td>\n",
       "      <td>0</td>\n",
       "      <td>0</td>\n",
       "      <td>0</td>\n",
       "      <td>0</td>\n",
       "      <td>0</td>\n",
       "      <td>0</td>\n",
       "      <td>0</td>\n",
       "    </tr>\n",
       "    <tr>\n",
       "      <th>3</th>\n",
       "      <td>4</td>\n",
       "      <td>01-01-2021</td>\n",
       "      <td>6</td>\n",
       "      <td>7</td>\n",
       "      <td>2.0</td>\n",
       "      <td>04-10-2017</td>\n",
       "      <td>0</td>\n",
       "      <td>0</td>\n",
       "      <td>0</td>\n",
       "      <td>0</td>\n",
       "      <td>0</td>\n",
       "      <td>0</td>\n",
       "      <td>0</td>\n",
       "      <td>0</td>\n",
       "      <td>0</td>\n",
       "      <td>0</td>\n",
       "      <td>0</td>\n",
       "      <td>0</td>\n",
       "      <td>0</td>\n",
       "    </tr>\n",
       "    <tr>\n",
       "      <th>4</th>\n",
       "      <td>5</td>\n",
       "      <td>01-01-2021</td>\n",
       "      <td>4</td>\n",
       "      <td>6</td>\n",
       "      <td>NaN</td>\n",
       "      <td>08-06-2020</td>\n",
       "      <td>0</td>\n",
       "      <td>0</td>\n",
       "      <td>0</td>\n",
       "      <td>0</td>\n",
       "      <td>0</td>\n",
       "      <td>0</td>\n",
       "      <td>1</td>\n",
       "      <td>0</td>\n",
       "      <td>0</td>\n",
       "      <td>0</td>\n",
       "      <td>1</td>\n",
       "      <td>0</td>\n",
       "      <td>0</td>\n",
       "    </tr>\n",
       "  </tbody>\n",
       "</table>\n",
       "</div>"
      ],
      "text/plain": [
       "   id  created_at  campaign_var_1  campaign_var_2  products_purchased  \\\n",
       "0   1  01-01-2021               1               2                 2.0   \n",
       "1   2  01-01-2021               2               1                 2.0   \n",
       "2   3  01-01-2021               9               3                 3.0   \n",
       "3   4  01-01-2021               6               7                 2.0   \n",
       "4   5  01-01-2021               4               6                 NaN   \n",
       "\n",
       "  signup_date  user_activity_var_1  user_activity_var_2  user_activity_var_3  \\\n",
       "0  24-09-2020                    0                    0                    0   \n",
       "1  19-09-2020                    1                    0                    1   \n",
       "2  11-08-2021                    1                    0                    0   \n",
       "3  04-10-2017                    0                    0                    0   \n",
       "4  08-06-2020                    0                    0                    0   \n",
       "\n",
       "   user_activity_var_4  user_activity_var_5  user_activity_var_6  \\\n",
       "0                    0                    0                    0   \n",
       "1                    0                    0                    0   \n",
       "2                    0                    0                    0   \n",
       "3                    0                    0                    0   \n",
       "4                    0                    0                    0   \n",
       "\n",
       "   user_activity_var_7  user_activity_var_8  user_activity_var_9  \\\n",
       "0                    1                    1                    0   \n",
       "1                    1                    0                    0   \n",
       "2                    0                    0                    0   \n",
       "3                    0                    0                    0   \n",
       "4                    1                    0                    0   \n",
       "\n",
       "   user_activity_var_10  user_activity_var_11  user_activity_var_12  buy  \n",
       "0                     0                     0                     0    0  \n",
       "1                     0                     0                     0    0  \n",
       "2                     0                     0                     0    0  \n",
       "3                     0                     0                     0    0  \n",
       "4                     0                     1                     0    0  "
      ]
     },
     "execution_count": 8,
     "metadata": {},
     "output_type": "execute_result"
    }
   ],
   "source": [
    "df.head()"
   ]
  },
  {
   "cell_type": "code",
   "execution_count": 9,
   "id": "6a8870ff",
   "metadata": {},
   "outputs": [
    {
     "data": {
      "text/plain": [
       "(39161, 19)"
      ]
     },
     "execution_count": 9,
     "metadata": {},
     "output_type": "execute_result"
    }
   ],
   "source": [
    "df.shape"
   ]
  },
  {
   "cell_type": "code",
   "execution_count": 10,
   "id": "c098b16b",
   "metadata": {},
   "outputs": [
    {
     "name": "stdout",
     "output_type": "stream",
     "text": [
      "<class 'pandas.core.frame.DataFrame'>\n",
      "RangeIndex: 39161 entries, 0 to 39160\n",
      "Data columns (total 19 columns):\n",
      " #   Column                Non-Null Count  Dtype  \n",
      "---  ------                --------------  -----  \n",
      " 0   id                    39161 non-null  int64  \n",
      " 1   created_at            39161 non-null  object \n",
      " 2   campaign_var_1        39161 non-null  int64  \n",
      " 3   campaign_var_2        39161 non-null  int64  \n",
      " 4   products_purchased    18250 non-null  float64\n",
      " 5   signup_date           24048 non-null  object \n",
      " 6   user_activity_var_1   39161 non-null  int64  \n",
      " 7   user_activity_var_2   39161 non-null  int64  \n",
      " 8   user_activity_var_3   39161 non-null  int64  \n",
      " 9   user_activity_var_4   39161 non-null  int64  \n",
      " 10  user_activity_var_5   39161 non-null  int64  \n",
      " 11  user_activity_var_6   39161 non-null  int64  \n",
      " 12  user_activity_var_7   39161 non-null  int64  \n",
      " 13  user_activity_var_8   39161 non-null  int64  \n",
      " 14  user_activity_var_9   39161 non-null  int64  \n",
      " 15  user_activity_var_10  39161 non-null  int64  \n",
      " 16  user_activity_var_11  39161 non-null  int64  \n",
      " 17  user_activity_var_12  39161 non-null  int64  \n",
      " 18  buy                   39161 non-null  int64  \n",
      "dtypes: float64(1), int64(16), object(2)\n",
      "memory usage: 5.7+ MB\n"
     ]
    }
   ],
   "source": [
    "#general summary of the data\n",
    "df.info()"
   ]
  },
  {
   "cell_type": "code",
   "execution_count": 11,
   "id": "f4328e1a",
   "metadata": {},
   "outputs": [
    {
     "data": {
      "text/html": [
       "<div>\n",
       "<style scoped>\n",
       "    .dataframe tbody tr th:only-of-type {\n",
       "        vertical-align: middle;\n",
       "    }\n",
       "\n",
       "    .dataframe tbody tr th {\n",
       "        vertical-align: top;\n",
       "    }\n",
       "\n",
       "    .dataframe thead th {\n",
       "        text-align: right;\n",
       "    }\n",
       "</style>\n",
       "<table border=\"1\" class=\"dataframe\">\n",
       "  <thead>\n",
       "    <tr style=\"text-align: right;\">\n",
       "      <th></th>\n",
       "      <th>id</th>\n",
       "      <th>campaign_var_1</th>\n",
       "      <th>campaign_var_2</th>\n",
       "      <th>products_purchased</th>\n",
       "      <th>user_activity_var_1</th>\n",
       "      <th>user_activity_var_2</th>\n",
       "      <th>user_activity_var_3</th>\n",
       "      <th>user_activity_var_4</th>\n",
       "      <th>user_activity_var_5</th>\n",
       "      <th>user_activity_var_6</th>\n",
       "      <th>user_activity_var_7</th>\n",
       "      <th>user_activity_var_8</th>\n",
       "      <th>user_activity_var_9</th>\n",
       "      <th>user_activity_var_10</th>\n",
       "      <th>user_activity_var_11</th>\n",
       "      <th>user_activity_var_12</th>\n",
       "      <th>buy</th>\n",
       "    </tr>\n",
       "  </thead>\n",
       "  <tbody>\n",
       "    <tr>\n",
       "      <th>count</th>\n",
       "      <td>39161.000000</td>\n",
       "      <td>39161.000000</td>\n",
       "      <td>39161.000000</td>\n",
       "      <td>18250.000000</td>\n",
       "      <td>39161.000000</td>\n",
       "      <td>39161.000000</td>\n",
       "      <td>39161.000000</td>\n",
       "      <td>39161.000000</td>\n",
       "      <td>39161.000000</td>\n",
       "      <td>39161.000000</td>\n",
       "      <td>39161.000000</td>\n",
       "      <td>39161.000000</td>\n",
       "      <td>39161.000000</td>\n",
       "      <td>39161.000000</td>\n",
       "      <td>39161.000000</td>\n",
       "      <td>39161.000000</td>\n",
       "      <td>39161.000000</td>\n",
       "    </tr>\n",
       "    <tr>\n",
       "      <th>mean</th>\n",
       "      <td>19581.000000</td>\n",
       "      <td>6.523812</td>\n",
       "      <td>6.452746</td>\n",
       "      <td>2.154137</td>\n",
       "      <td>0.400092</td>\n",
       "      <td>0.006716</td>\n",
       "      <td>0.102832</td>\n",
       "      <td>0.011465</td>\n",
       "      <td>0.151503</td>\n",
       "      <td>0.499834</td>\n",
       "      <td>0.286612</td>\n",
       "      <td>0.174434</td>\n",
       "      <td>0.011440</td>\n",
       "      <td>0.000383</td>\n",
       "      <td>0.218942</td>\n",
       "      <td>0.000562</td>\n",
       "      <td>0.051020</td>\n",
       "    </tr>\n",
       "    <tr>\n",
       "      <th>std</th>\n",
       "      <td>11304.951283</td>\n",
       "      <td>3.472944</td>\n",
       "      <td>2.614296</td>\n",
       "      <td>0.779815</td>\n",
       "      <td>0.509194</td>\n",
       "      <td>0.081676</td>\n",
       "      <td>0.303743</td>\n",
       "      <td>0.106463</td>\n",
       "      <td>0.359681</td>\n",
       "      <td>0.558166</td>\n",
       "      <td>0.455784</td>\n",
       "      <td>0.379689</td>\n",
       "      <td>0.106346</td>\n",
       "      <td>0.019568</td>\n",
       "      <td>0.431544</td>\n",
       "      <td>0.023696</td>\n",
       "      <td>0.220042</td>\n",
       "    </tr>\n",
       "    <tr>\n",
       "      <th>min</th>\n",
       "      <td>1.000000</td>\n",
       "      <td>1.000000</td>\n",
       "      <td>1.000000</td>\n",
       "      <td>1.000000</td>\n",
       "      <td>0.000000</td>\n",
       "      <td>0.000000</td>\n",
       "      <td>0.000000</td>\n",
       "      <td>0.000000</td>\n",
       "      <td>0.000000</td>\n",
       "      <td>0.000000</td>\n",
       "      <td>0.000000</td>\n",
       "      <td>0.000000</td>\n",
       "      <td>0.000000</td>\n",
       "      <td>0.000000</td>\n",
       "      <td>0.000000</td>\n",
       "      <td>0.000000</td>\n",
       "      <td>0.000000</td>\n",
       "    </tr>\n",
       "    <tr>\n",
       "      <th>25%</th>\n",
       "      <td>9791.000000</td>\n",
       "      <td>4.000000</td>\n",
       "      <td>5.000000</td>\n",
       "      <td>2.000000</td>\n",
       "      <td>0.000000</td>\n",
       "      <td>0.000000</td>\n",
       "      <td>0.000000</td>\n",
       "      <td>0.000000</td>\n",
       "      <td>0.000000</td>\n",
       "      <td>0.000000</td>\n",
       "      <td>0.000000</td>\n",
       "      <td>0.000000</td>\n",
       "      <td>0.000000</td>\n",
       "      <td>0.000000</td>\n",
       "      <td>0.000000</td>\n",
       "      <td>0.000000</td>\n",
       "      <td>0.000000</td>\n",
       "    </tr>\n",
       "    <tr>\n",
       "      <th>50%</th>\n",
       "      <td>19581.000000</td>\n",
       "      <td>6.000000</td>\n",
       "      <td>6.000000</td>\n",
       "      <td>2.000000</td>\n",
       "      <td>0.000000</td>\n",
       "      <td>0.000000</td>\n",
       "      <td>0.000000</td>\n",
       "      <td>0.000000</td>\n",
       "      <td>0.000000</td>\n",
       "      <td>0.000000</td>\n",
       "      <td>0.000000</td>\n",
       "      <td>0.000000</td>\n",
       "      <td>0.000000</td>\n",
       "      <td>0.000000</td>\n",
       "      <td>0.000000</td>\n",
       "      <td>0.000000</td>\n",
       "      <td>0.000000</td>\n",
       "    </tr>\n",
       "    <tr>\n",
       "      <th>75%</th>\n",
       "      <td>29371.000000</td>\n",
       "      <td>9.000000</td>\n",
       "      <td>8.000000</td>\n",
       "      <td>3.000000</td>\n",
       "      <td>1.000000</td>\n",
       "      <td>0.000000</td>\n",
       "      <td>0.000000</td>\n",
       "      <td>0.000000</td>\n",
       "      <td>0.000000</td>\n",
       "      <td>1.000000</td>\n",
       "      <td>1.000000</td>\n",
       "      <td>0.000000</td>\n",
       "      <td>0.000000</td>\n",
       "      <td>0.000000</td>\n",
       "      <td>0.000000</td>\n",
       "      <td>0.000000</td>\n",
       "      <td>0.000000</td>\n",
       "    </tr>\n",
       "    <tr>\n",
       "      <th>max</th>\n",
       "      <td>39161.000000</td>\n",
       "      <td>16.000000</td>\n",
       "      <td>15.000000</td>\n",
       "      <td>4.000000</td>\n",
       "      <td>3.000000</td>\n",
       "      <td>1.000000</td>\n",
       "      <td>1.000000</td>\n",
       "      <td>1.000000</td>\n",
       "      <td>2.000000</td>\n",
       "      <td>3.000000</td>\n",
       "      <td>2.000000</td>\n",
       "      <td>2.000000</td>\n",
       "      <td>1.000000</td>\n",
       "      <td>1.000000</td>\n",
       "      <td>4.000000</td>\n",
       "      <td>1.000000</td>\n",
       "      <td>1.000000</td>\n",
       "    </tr>\n",
       "  </tbody>\n",
       "</table>\n",
       "</div>"
      ],
      "text/plain": [
       "                 id  campaign_var_1  campaign_var_2  products_purchased  \\\n",
       "count  39161.000000    39161.000000    39161.000000        18250.000000   \n",
       "mean   19581.000000        6.523812        6.452746            2.154137   \n",
       "std    11304.951283        3.472944        2.614296            0.779815   \n",
       "min        1.000000        1.000000        1.000000            1.000000   \n",
       "25%     9791.000000        4.000000        5.000000            2.000000   \n",
       "50%    19581.000000        6.000000        6.000000            2.000000   \n",
       "75%    29371.000000        9.000000        8.000000            3.000000   \n",
       "max    39161.000000       16.000000       15.000000            4.000000   \n",
       "\n",
       "       user_activity_var_1  user_activity_var_2  user_activity_var_3  \\\n",
       "count         39161.000000         39161.000000         39161.000000   \n",
       "mean              0.400092             0.006716             0.102832   \n",
       "std               0.509194             0.081676             0.303743   \n",
       "min               0.000000             0.000000             0.000000   \n",
       "25%               0.000000             0.000000             0.000000   \n",
       "50%               0.000000             0.000000             0.000000   \n",
       "75%               1.000000             0.000000             0.000000   \n",
       "max               3.000000             1.000000             1.000000   \n",
       "\n",
       "       user_activity_var_4  user_activity_var_5  user_activity_var_6  \\\n",
       "count         39161.000000         39161.000000         39161.000000   \n",
       "mean              0.011465             0.151503             0.499834   \n",
       "std               0.106463             0.359681             0.558166   \n",
       "min               0.000000             0.000000             0.000000   \n",
       "25%               0.000000             0.000000             0.000000   \n",
       "50%               0.000000             0.000000             0.000000   \n",
       "75%               0.000000             0.000000             1.000000   \n",
       "max               1.000000             2.000000             3.000000   \n",
       "\n",
       "       user_activity_var_7  user_activity_var_8  user_activity_var_9  \\\n",
       "count         39161.000000         39161.000000         39161.000000   \n",
       "mean              0.286612             0.174434             0.011440   \n",
       "std               0.455784             0.379689             0.106346   \n",
       "min               0.000000             0.000000             0.000000   \n",
       "25%               0.000000             0.000000             0.000000   \n",
       "50%               0.000000             0.000000             0.000000   \n",
       "75%               1.000000             0.000000             0.000000   \n",
       "max               2.000000             2.000000             1.000000   \n",
       "\n",
       "       user_activity_var_10  user_activity_var_11  user_activity_var_12  \\\n",
       "count          39161.000000          39161.000000          39161.000000   \n",
       "mean               0.000383              0.218942              0.000562   \n",
       "std                0.019568              0.431544              0.023696   \n",
       "min                0.000000              0.000000              0.000000   \n",
       "25%                0.000000              0.000000              0.000000   \n",
       "50%                0.000000              0.000000              0.000000   \n",
       "75%                0.000000              0.000000              0.000000   \n",
       "max                1.000000              4.000000              1.000000   \n",
       "\n",
       "                buy  \n",
       "count  39161.000000  \n",
       "mean       0.051020  \n",
       "std        0.220042  \n",
       "min        0.000000  \n",
       "25%        0.000000  \n",
       "50%        0.000000  \n",
       "75%        0.000000  \n",
       "max        1.000000  "
      ]
     },
     "execution_count": 11,
     "metadata": {},
     "output_type": "execute_result"
    }
   ],
   "source": [
    "#detailed summary of the data\n",
    "df.describe()"
   ]
  },
  {
   "cell_type": "code",
   "execution_count": 12,
   "id": "32d6c7cd",
   "metadata": {},
   "outputs": [
    {
     "data": {
      "text/plain": [
       "0    37163\n",
       "1     1998\n",
       "Name: buy, dtype: int64"
      ]
     },
     "execution_count": 12,
     "metadata": {},
     "output_type": "execute_result"
    }
   ],
   "source": [
    "df['buy'].value_counts()"
   ]
  },
  {
   "cell_type": "code",
   "execution_count": 13,
   "id": "5aaf3985",
   "metadata": {},
   "outputs": [
    {
     "data": {
      "text/plain": [
       "<AxesSubplot:xlabel='buy', ylabel='count'>"
      ]
     },
     "execution_count": 13,
     "metadata": {},
     "output_type": "execute_result"
    },
    {
     "data": {
      "image/png": "[encoded data removed]",
      "text/plain": [
       "<Figure size 432x432 with 1 Axes>"
      ]
     },
     "metadata": {},
     "output_type": "display_data"
    }
   ],
   "source": [
    "# plotting the count of 0's: 'won't buy' and 1's: 'would buy' in the target feature variable\n",
    "sns.countplot(df['buy'])"
   ]
  },
  {
   "cell_type": "code",
   "execution_count": 14,
   "id": "9ce807a2",
   "metadata": {},
   "outputs": [
    {
     "data": {
      "text/plain": [
       "id                          0\n",
       "created_at                  0\n",
       "campaign_var_1              0\n",
       "campaign_var_2              0\n",
       "products_purchased      20911\n",
       "signup_date             15113\n",
       "user_activity_var_1         0\n",
       "user_activity_var_2         0\n",
       "user_activity_var_3         0\n",
       "user_activity_var_4         0\n",
       "user_activity_var_5         0\n",
       "user_activity_var_6         0\n",
       "user_activity_var_7         0\n",
       "user_activity_var_8         0\n",
       "user_activity_var_9         0\n",
       "user_activity_var_10        0\n",
       "user_activity_var_11        0\n",
       "user_activity_var_12        0\n",
       "buy                         0\n",
       "dtype: int64"
      ]
     },
     "execution_count": 14,
     "metadata": {},
     "output_type": "execute_result"
    }
   ],
   "source": [
    "# total num of null values per column in the data\n",
    "df.isnull().sum()"
   ]
  },
  {
   "cell_type": "code",
   "execution_count": 15,
   "id": "4190118b",
   "metadata": {},
   "outputs": [
    {
     "data": {
      "text/plain": [
       "0"
      ]
     },
     "execution_count": 15,
     "metadata": {},
     "output_type": "execute_result"
    }
   ],
   "source": [
    "# total num of duplicate rows in the data\n",
    "df.duplicated().sum()"
   ]
  },
  {
   "cell_type": "markdown",
   "id": "82abef4d",
   "metadata": {},
   "source": [
    "<h4> Handling missing values"
   ]
  },
  {
   "cell_type": "code",
   "execution_count": 16,
   "id": "cdef502d",
   "metadata": {},
   "outputs": [
    {
     "data": {
      "text/plain": [
       "2.0    8867\n",
       "3.0    5024\n",
       "1.0    3643\n",
       "4.0     716\n",
       "Name: products_purchased, dtype: int64"
      ]
     },
     "execution_count": 16,
     "metadata": {},
     "output_type": "execute_result"
    }
   ],
   "source": [
    "df['products_purchased'].value_counts()"
   ]
  },
  {
   "cell_type": "code",
   "execution_count": 17,
   "id": "45527c0e",
   "metadata": {},
   "outputs": [
    {
     "data": {
      "text/plain": [
       "<AxesSubplot:xlabel='products_purchased', ylabel='count'>"
      ]
     },
     "execution_count": 17,
     "metadata": {},
     "output_type": "execute_result"
    },
    {
     "data": {
      "image/png": "[encoded data removed]",
      "text/plain": [
       "<Figure size 432x432 with 1 Axes>"
      ]
     },
     "metadata": {},
     "output_type": "display_data"
    }
   ],
   "source": [
    "# plotting number of products purchased before filling mising values\n",
    "sns.countplot(df['products_purchased'])"
   ]
  },
  {
   "cell_type": "code",
   "execution_count": 18,
   "id": "061134d4",
   "metadata": {},
   "outputs": [],
   "source": [
    "# filling missing values with 0: no products purchased\n",
    "df['products_purchased']=df['products_purchased'].fillna(0)"
   ]
  },
  {
   "cell_type": "code",
   "execution_count": 19,
   "id": "b421db97",
   "metadata": {},
   "outputs": [
    {
     "data": {
      "text/plain": [
       "<AxesSubplot:xlabel='products_purchased', ylabel='count'>"
      ]
     },
     "execution_count": 19,
     "metadata": {},
     "output_type": "execute_result"
    },
    {
     "data": {
      "image/png": "[encoded data removed]",
      "text/plain": [
       "<Figure size 432x432 with 1 Axes>"
      ]
     },
     "metadata": {},
     "output_type": "display_data"
    }
   ],
   "source": [
    "# plotting number of products purchased after filling mising values\n",
    "sns.countplot(df['products_purchased'])"
   ]
  },
  {
   "cell_type": "code",
   "execution_count": 20,
   "id": "e6f33841",
   "metadata": {},
   "outputs": [],
   "source": [
    "# changing datatype of 'products_purchased' to int\n",
    "df['products_purchased']=df['products_purchased'].astype('int64')"
   ]
  },
  {
   "cell_type": "markdown",
   "id": "12b3454c",
   "metadata": {},
   "source": [
    "<h4> Adding custom features: creating new feature variable from 'created_at' and 'signup_date'"
   ]
  },
  {
   "cell_type": "code",
   "execution_count": 21,
   "id": "6d13dc4b",
   "metadata": {},
   "outputs": [],
   "source": [
    "# convert feature var to datatime type\n",
    "df['created_at']=pd.to_datetime(df['created_at'])\n",
    "df['signup_date']=pd.to_datetime(df['signup_date'])"
   ]
  },
  {
   "cell_type": "code",
   "execution_count": 22,
   "id": "184a8a4f",
   "metadata": {},
   "outputs": [],
   "source": [
    "df['diff_days']=(df['created_at']-df['signup_date']).dt.days"
   ]
  },
  {
   "cell_type": "markdown",
   "id": "12c890ba",
   "metadata": {},
   "source": [
    "<h4> Removing unnecessary feature variables"
   ]
  },
  {
   "cell_type": "code",
   "execution_count": 23,
   "id": "bfb11858",
   "metadata": {},
   "outputs": [],
   "source": [
    "df.drop(columns=['id', 'created_at', 'signup_date'],inplace=True)"
   ]
  },
  {
   "cell_type": "code",
   "execution_count": 24,
   "id": "64aff5af",
   "metadata": {},
   "outputs": [
    {
     "data": {
      "text/html": [
       "<div>\n",
       "<style scoped>\n",
       "    .dataframe tbody tr th:only-of-type {\n",
       "        vertical-align: middle;\n",
       "    }\n",
       "\n",
       "    .dataframe tbody tr th {\n",
       "        vertical-align: top;\n",
       "    }\n",
       "\n",
       "    .dataframe thead th {\n",
       "        text-align: right;\n",
       "    }\n",
       "</style>\n",
       "<table border=\"1\" class=\"dataframe\">\n",
       "  <thead>\n",
       "    <tr style=\"text-align: right;\">\n",
       "      <th></th>\n",
       "      <th>campaign_var_1</th>\n",
       "      <th>campaign_var_2</th>\n",
       "      <th>products_purchased</th>\n",
       "      <th>user_activity_var_1</th>\n",
       "      <th>user_activity_var_2</th>\n",
       "      <th>user_activity_var_3</th>\n",
       "      <th>user_activity_var_4</th>\n",
       "      <th>user_activity_var_5</th>\n",
       "      <th>user_activity_var_6</th>\n",
       "      <th>user_activity_var_7</th>\n",
       "      <th>user_activity_var_8</th>\n",
       "      <th>user_activity_var_9</th>\n",
       "      <th>user_activity_var_10</th>\n",
       "      <th>user_activity_var_11</th>\n",
       "      <th>user_activity_var_12</th>\n",
       "      <th>buy</th>\n",
       "      <th>diff_days</th>\n",
       "    </tr>\n",
       "  </thead>\n",
       "  <tbody>\n",
       "    <tr>\n",
       "      <th>0</th>\n",
       "      <td>1</td>\n",
       "      <td>2</td>\n",
       "      <td>2</td>\n",
       "      <td>0</td>\n",
       "      <td>0</td>\n",
       "      <td>0</td>\n",
       "      <td>0</td>\n",
       "      <td>0</td>\n",
       "      <td>0</td>\n",
       "      <td>1</td>\n",
       "      <td>1</td>\n",
       "      <td>0</td>\n",
       "      <td>0</td>\n",
       "      <td>0</td>\n",
       "      <td>0</td>\n",
       "      <td>0</td>\n",
       "      <td>99.0</td>\n",
       "    </tr>\n",
       "    <tr>\n",
       "      <th>1</th>\n",
       "      <td>2</td>\n",
       "      <td>1</td>\n",
       "      <td>2</td>\n",
       "      <td>1</td>\n",
       "      <td>0</td>\n",
       "      <td>1</td>\n",
       "      <td>0</td>\n",
       "      <td>0</td>\n",
       "      <td>0</td>\n",
       "      <td>1</td>\n",
       "      <td>0</td>\n",
       "      <td>0</td>\n",
       "      <td>0</td>\n",
       "      <td>0</td>\n",
       "      <td>0</td>\n",
       "      <td>0</td>\n",
       "      <td>104.0</td>\n",
       "    </tr>\n",
       "    <tr>\n",
       "      <th>2</th>\n",
       "      <td>9</td>\n",
       "      <td>3</td>\n",
       "      <td>3</td>\n",
       "      <td>1</td>\n",
       "      <td>0</td>\n",
       "      <td>0</td>\n",
       "      <td>0</td>\n",
       "      <td>0</td>\n",
       "      <td>0</td>\n",
       "      <td>0</td>\n",
       "      <td>0</td>\n",
       "      <td>0</td>\n",
       "      <td>0</td>\n",
       "      <td>0</td>\n",
       "      <td>0</td>\n",
       "      <td>0</td>\n",
       "      <td>-311.0</td>\n",
       "    </tr>\n",
       "    <tr>\n",
       "      <th>3</th>\n",
       "      <td>6</td>\n",
       "      <td>7</td>\n",
       "      <td>2</td>\n",
       "      <td>0</td>\n",
       "      <td>0</td>\n",
       "      <td>0</td>\n",
       "      <td>0</td>\n",
       "      <td>0</td>\n",
       "      <td>0</td>\n",
       "      <td>0</td>\n",
       "      <td>0</td>\n",
       "      <td>0</td>\n",
       "      <td>0</td>\n",
       "      <td>0</td>\n",
       "      <td>0</td>\n",
       "      <td>0</td>\n",
       "      <td>1362.0</td>\n",
       "    </tr>\n",
       "    <tr>\n",
       "      <th>4</th>\n",
       "      <td>4</td>\n",
       "      <td>6</td>\n",
       "      <td>0</td>\n",
       "      <td>0</td>\n",
       "      <td>0</td>\n",
       "      <td>0</td>\n",
       "      <td>0</td>\n",
       "      <td>0</td>\n",
       "      <td>0</td>\n",
       "      <td>1</td>\n",
       "      <td>0</td>\n",
       "      <td>0</td>\n",
       "      <td>0</td>\n",
       "      <td>1</td>\n",
       "      <td>0</td>\n",
       "      <td>0</td>\n",
       "      <td>148.0</td>\n",
       "    </tr>\n",
       "  </tbody>\n",
       "</table>\n",
       "</div>"
      ],
      "text/plain": [
       "   campaign_var_1  campaign_var_2  products_purchased  user_activity_var_1  \\\n",
       "0               1               2                   2                    0   \n",
       "1               2               1                   2                    1   \n",
       "2               9               3                   3                    1   \n",
       "3               6               7                   2                    0   \n",
       "4               4               6                   0                    0   \n",
       "\n",
       "   user_activity_var_2  user_activity_var_3  user_activity_var_4  \\\n",
       "0                    0                    0                    0   \n",
       "1                    0                    1                    0   \n",
       "2                    0                    0                    0   \n",
       "3                    0                    0                    0   \n",
       "4                    0                    0                    0   \n",
       "\n",
       "   user_activity_var_5  user_activity_var_6  user_activity_var_7  \\\n",
       "0                    0                    0                    1   \n",
       "1                    0                    0                    1   \n",
       "2                    0                    0                    0   \n",
       "3                    0                    0                    0   \n",
       "4                    0                    0                    1   \n",
       "\n",
       "   user_activity_var_8  user_activity_var_9  user_activity_var_10  \\\n",
       "0                    1                    0                     0   \n",
       "1                    0                    0                     0   \n",
       "2                    0                    0                     0   \n",
       "3                    0                    0                     0   \n",
       "4                    0                    0                     0   \n",
       "\n",
       "   user_activity_var_11  user_activity_var_12  buy  diff_days  \n",
       "0                     0                     0    0       99.0  \n",
       "1                     0                     0    0      104.0  \n",
       "2                     0                     0    0     -311.0  \n",
       "3                     0                     0    0     1362.0  \n",
       "4                     1                     0    0      148.0  "
      ]
     },
     "execution_count": 24,
     "metadata": {},
     "output_type": "execute_result"
    }
   ],
   "source": [
    "df.head()"
   ]
  },
  {
   "cell_type": "code",
   "execution_count": 25,
   "id": "dc546db4",
   "metadata": {
    "scrolled": true
   },
   "outputs": [],
   "source": [
    "# filling null values in diff_created_signup\n",
    "df['diff_days'].fillna(df['diff_days'].mean(),inplace=True)"
   ]
  },
  {
   "cell_type": "code",
   "execution_count": 26,
   "id": "117d7280",
   "metadata": {},
   "outputs": [
    {
     "data": {
      "text/html": [
       "<div>\n",
       "<style scoped>\n",
       "    .dataframe tbody tr th:only-of-type {\n",
       "        vertical-align: middle;\n",
       "    }\n",
       "\n",
       "    .dataframe tbody tr th {\n",
       "        vertical-align: top;\n",
       "    }\n",
       "\n",
       "    .dataframe thead th {\n",
       "        text-align: right;\n",
       "    }\n",
       "</style>\n",
       "<table border=\"1\" class=\"dataframe\">\n",
       "  <thead>\n",
       "    <tr style=\"text-align: right;\">\n",
       "      <th></th>\n",
       "      <th>campaign_var_1</th>\n",
       "      <th>campaign_var_2</th>\n",
       "      <th>products_purchased</th>\n",
       "      <th>user_activity_var_1</th>\n",
       "      <th>user_activity_var_2</th>\n",
       "      <th>user_activity_var_3</th>\n",
       "      <th>user_activity_var_4</th>\n",
       "      <th>user_activity_var_5</th>\n",
       "      <th>user_activity_var_6</th>\n",
       "      <th>user_activity_var_7</th>\n",
       "      <th>user_activity_var_8</th>\n",
       "      <th>user_activity_var_9</th>\n",
       "      <th>user_activity_var_10</th>\n",
       "      <th>user_activity_var_11</th>\n",
       "      <th>user_activity_var_12</th>\n",
       "      <th>buy</th>\n",
       "      <th>diff_days</th>\n",
       "    </tr>\n",
       "  </thead>\n",
       "  <tbody>\n",
       "    <tr>\n",
       "      <th>0</th>\n",
       "      <td>1</td>\n",
       "      <td>2</td>\n",
       "      <td>2</td>\n",
       "      <td>0</td>\n",
       "      <td>0</td>\n",
       "      <td>0</td>\n",
       "      <td>0</td>\n",
       "      <td>0</td>\n",
       "      <td>0</td>\n",
       "      <td>1</td>\n",
       "      <td>1</td>\n",
       "      <td>0</td>\n",
       "      <td>0</td>\n",
       "      <td>0</td>\n",
       "      <td>0</td>\n",
       "      <td>0</td>\n",
       "      <td>99.0</td>\n",
       "    </tr>\n",
       "    <tr>\n",
       "      <th>1</th>\n",
       "      <td>2</td>\n",
       "      <td>1</td>\n",
       "      <td>2</td>\n",
       "      <td>1</td>\n",
       "      <td>0</td>\n",
       "      <td>1</td>\n",
       "      <td>0</td>\n",
       "      <td>0</td>\n",
       "      <td>0</td>\n",
       "      <td>1</td>\n",
       "      <td>0</td>\n",
       "      <td>0</td>\n",
       "      <td>0</td>\n",
       "      <td>0</td>\n",
       "      <td>0</td>\n",
       "      <td>0</td>\n",
       "      <td>104.0</td>\n",
       "    </tr>\n",
       "    <tr>\n",
       "      <th>2</th>\n",
       "      <td>9</td>\n",
       "      <td>3</td>\n",
       "      <td>3</td>\n",
       "      <td>1</td>\n",
       "      <td>0</td>\n",
       "      <td>0</td>\n",
       "      <td>0</td>\n",
       "      <td>0</td>\n",
       "      <td>0</td>\n",
       "      <td>0</td>\n",
       "      <td>0</td>\n",
       "      <td>0</td>\n",
       "      <td>0</td>\n",
       "      <td>0</td>\n",
       "      <td>0</td>\n",
       "      <td>0</td>\n",
       "      <td>-311.0</td>\n",
       "    </tr>\n",
       "    <tr>\n",
       "      <th>3</th>\n",
       "      <td>6</td>\n",
       "      <td>7</td>\n",
       "      <td>2</td>\n",
       "      <td>0</td>\n",
       "      <td>0</td>\n",
       "      <td>0</td>\n",
       "      <td>0</td>\n",
       "      <td>0</td>\n",
       "      <td>0</td>\n",
       "      <td>0</td>\n",
       "      <td>0</td>\n",
       "      <td>0</td>\n",
       "      <td>0</td>\n",
       "      <td>0</td>\n",
       "      <td>0</td>\n",
       "      <td>0</td>\n",
       "      <td>1362.0</td>\n",
       "    </tr>\n",
       "    <tr>\n",
       "      <th>4</th>\n",
       "      <td>4</td>\n",
       "      <td>6</td>\n",
       "      <td>0</td>\n",
       "      <td>0</td>\n",
       "      <td>0</td>\n",
       "      <td>0</td>\n",
       "      <td>0</td>\n",
       "      <td>0</td>\n",
       "      <td>0</td>\n",
       "      <td>1</td>\n",
       "      <td>0</td>\n",
       "      <td>0</td>\n",
       "      <td>0</td>\n",
       "      <td>1</td>\n",
       "      <td>0</td>\n",
       "      <td>0</td>\n",
       "      <td>148.0</td>\n",
       "    </tr>\n",
       "  </tbody>\n",
       "</table>\n",
       "</div>"
      ],
      "text/plain": [
       "   campaign_var_1  campaign_var_2  products_purchased  user_activity_var_1  \\\n",
       "0               1               2                   2                    0   \n",
       "1               2               1                   2                    1   \n",
       "2               9               3                   3                    1   \n",
       "3               6               7                   2                    0   \n",
       "4               4               6                   0                    0   \n",
       "\n",
       "   user_activity_var_2  user_activity_var_3  user_activity_var_4  \\\n",
       "0                    0                    0                    0   \n",
       "1                    0                    1                    0   \n",
       "2                    0                    0                    0   \n",
       "3                    0                    0                    0   \n",
       "4                    0                    0                    0   \n",
       "\n",
       "   user_activity_var_5  user_activity_var_6  user_activity_var_7  \\\n",
       "0                    0                    0                    1   \n",
       "1                    0                    0                    1   \n",
       "2                    0                    0                    0   \n",
       "3                    0                    0                    0   \n",
       "4                    0                    0                    1   \n",
       "\n",
       "   user_activity_var_8  user_activity_var_9  user_activity_var_10  \\\n",
       "0                    1                    0                     0   \n",
       "1                    0                    0                     0   \n",
       "2                    0                    0                     0   \n",
       "3                    0                    0                     0   \n",
       "4                    0                    0                     0   \n",
       "\n",
       "   user_activity_var_11  user_activity_var_12  buy  diff_days  \n",
       "0                     0                     0    0       99.0  \n",
       "1                     0                     0    0      104.0  \n",
       "2                     0                     0    0     -311.0  \n",
       "3                     0                     0    0     1362.0  \n",
       "4                     1                     0    0      148.0  "
      ]
     },
     "execution_count": 26,
     "metadata": {},
     "output_type": "execute_result"
    }
   ],
   "source": [
    "df.head()"
   ]
  },
  {
   "cell_type": "markdown",
   "id": "2319f365",
   "metadata": {},
   "source": [
    "<h4> Feature Selection"
   ]
  },
  {
   "cell_type": "code",
   "execution_count": 27,
   "id": "de440824",
   "metadata": {
    "scrolled": true
   },
   "outputs": [
    {
     "data": {
      "text/plain": [
       "diff_days               0.217816\n",
       "user_activity_var_9     0.176976\n",
       "user_activity_var_4     0.121390\n",
       "user_activity_var_11    0.100498\n",
       "user_activity_var_2     0.098216\n",
       "campaign_var_1          0.077292\n",
       "campaign_var_2          0.075582\n",
       "products_purchased      0.038888\n",
       "user_activity_var_5     0.023338\n",
       "user_activity_var_6     0.020943\n",
       "dtype: float64"
      ]
     },
     "execution_count": 27,
     "metadata": {},
     "output_type": "execute_result"
    }
   ],
   "source": [
    "# selecting 10 most prominent features\n",
    "model = ExtraTreesClassifier()\n",
    "model.fit(df.drop([\"buy\"], axis=1), df[\"buy\"])\n",
    "feat_importances = pd.Series(model.feature_importances_, index=df.drop([\"buy\"], axis=1).columns)\n",
    "feat_importances.nlargest(10)"
   ]
  },
  {
   "cell_type": "code",
   "execution_count": 28,
   "id": "66e834f9",
   "metadata": {},
   "outputs": [
    {
     "data": {
      "image/png": "[encoded data removed]",
      "text/plain": [
       "<Figure size 2160x2160 with 2 Axes>"
      ]
     },
     "metadata": {},
     "output_type": "display_data"
    }
   ],
   "source": [
    "# correlation matrix\n",
    "corrmat = df.corr()\n",
    "top_corr_features = corrmat.index\n",
    "plt.figure(figsize=(30,30))\n",
    "# heatmap\n",
    "g=sns.heatmap(df[top_corr_features].corr(),annot=True,cmap=\"RdYlGn\")"
   ]
  },
  {
   "cell_type": "code",
   "execution_count": 29,
   "id": "5c6a1f04",
   "metadata": {},
   "outputs": [],
   "source": [
    "# list of all the selected features for model building\n",
    "selected_features=['diff_days' ,              \n",
    "'user_activity_var_9',\n",
    "'user_activity_var_4' ,    \n",
    "'user_activity_var_11' ,   \n",
    "'user_activity_var_2',  \n",
    "'campaign_var_1',          \n",
    "'campaign_var_2' ,         \n",
    "'products_purchased' ,      \n",
    "'user_activity_var_5' ,    \n",
    "'user_activity_var_6' ]"
   ]
  },
  {
   "cell_type": "code",
   "execution_count": 30,
   "id": "d5860b9c",
   "metadata": {},
   "outputs": [],
   "source": [
    "# dropping other less relevant features\n",
    "df.drop(columns=['user_activity_var_12',\n",
    "'user_activity_var_10',\n",
    "'user_activity_var_3',\n",
    "'user_activity_var_8',\n",
    "'user_activity_var_7',\n",
    "'user_activity_var_1'],inplace=True)"
   ]
  },
  {
   "cell_type": "code",
   "execution_count": 31,
   "id": "08610658",
   "metadata": {
    "scrolled": true
   },
   "outputs": [
    {
     "data": {
      "text/html": [
       "<div>\n",
       "<style scoped>\n",
       "    .dataframe tbody tr th:only-of-type {\n",
       "        vertical-align: middle;\n",
       "    }\n",
       "\n",
       "    .dataframe tbody tr th {\n",
       "        vertical-align: top;\n",
       "    }\n",
       "\n",
       "    .dataframe thead th {\n",
       "        text-align: right;\n",
       "    }\n",
       "</style>\n",
       "<table border=\"1\" class=\"dataframe\">\n",
       "  <thead>\n",
       "    <tr style=\"text-align: right;\">\n",
       "      <th></th>\n",
       "      <th>campaign_var_1</th>\n",
       "      <th>campaign_var_2</th>\n",
       "      <th>products_purchased</th>\n",
       "      <th>user_activity_var_2</th>\n",
       "      <th>user_activity_var_4</th>\n",
       "      <th>user_activity_var_5</th>\n",
       "      <th>user_activity_var_6</th>\n",
       "      <th>user_activity_var_9</th>\n",
       "      <th>user_activity_var_11</th>\n",
       "      <th>buy</th>\n",
       "      <th>diff_days</th>\n",
       "    </tr>\n",
       "  </thead>\n",
       "  <tbody>\n",
       "    <tr>\n",
       "      <th>0</th>\n",
       "      <td>1</td>\n",
       "      <td>2</td>\n",
       "      <td>2</td>\n",
       "      <td>0</td>\n",
       "      <td>0</td>\n",
       "      <td>0</td>\n",
       "      <td>0</td>\n",
       "      <td>0</td>\n",
       "      <td>0</td>\n",
       "      <td>0</td>\n",
       "      <td>99.0</td>\n",
       "    </tr>\n",
       "    <tr>\n",
       "      <th>1</th>\n",
       "      <td>2</td>\n",
       "      <td>1</td>\n",
       "      <td>2</td>\n",
       "      <td>0</td>\n",
       "      <td>0</td>\n",
       "      <td>0</td>\n",
       "      <td>0</td>\n",
       "      <td>0</td>\n",
       "      <td>0</td>\n",
       "      <td>0</td>\n",
       "      <td>104.0</td>\n",
       "    </tr>\n",
       "    <tr>\n",
       "      <th>2</th>\n",
       "      <td>9</td>\n",
       "      <td>3</td>\n",
       "      <td>3</td>\n",
       "      <td>0</td>\n",
       "      <td>0</td>\n",
       "      <td>0</td>\n",
       "      <td>0</td>\n",
       "      <td>0</td>\n",
       "      <td>0</td>\n",
       "      <td>0</td>\n",
       "      <td>-311.0</td>\n",
       "    </tr>\n",
       "    <tr>\n",
       "      <th>3</th>\n",
       "      <td>6</td>\n",
       "      <td>7</td>\n",
       "      <td>2</td>\n",
       "      <td>0</td>\n",
       "      <td>0</td>\n",
       "      <td>0</td>\n",
       "      <td>0</td>\n",
       "      <td>0</td>\n",
       "      <td>0</td>\n",
       "      <td>0</td>\n",
       "      <td>1362.0</td>\n",
       "    </tr>\n",
       "    <tr>\n",
       "      <th>4</th>\n",
       "      <td>4</td>\n",
       "      <td>6</td>\n",
       "      <td>0</td>\n",
       "      <td>0</td>\n",
       "      <td>0</td>\n",
       "      <td>0</td>\n",
       "      <td>0</td>\n",
       "      <td>0</td>\n",
       "      <td>1</td>\n",
       "      <td>0</td>\n",
       "      <td>148.0</td>\n",
       "    </tr>\n",
       "  </tbody>\n",
       "</table>\n",
       "</div>"
      ],
      "text/plain": [
       "   campaign_var_1  campaign_var_2  products_purchased  user_activity_var_2  \\\n",
       "0               1               2                   2                    0   \n",
       "1               2               1                   2                    0   \n",
       "2               9               3                   3                    0   \n",
       "3               6               7                   2                    0   \n",
       "4               4               6                   0                    0   \n",
       "\n",
       "   user_activity_var_4  user_activity_var_5  user_activity_var_6  \\\n",
       "0                    0                    0                    0   \n",
       "1                    0                    0                    0   \n",
       "2                    0                    0                    0   \n",
       "3                    0                    0                    0   \n",
       "4                    0                    0                    0   \n",
       "\n",
       "   user_activity_var_9  user_activity_var_11  buy  diff_days  \n",
       "0                    0                     0    0       99.0  \n",
       "1                    0                     0    0      104.0  \n",
       "2                    0                     0    0     -311.0  \n",
       "3                    0                     0    0     1362.0  \n",
       "4                    0                     1    0      148.0  "
      ]
     },
     "execution_count": 31,
     "metadata": {},
     "output_type": "execute_result"
    }
   ],
   "source": [
    "df.head()"
   ]
  },
  {
   "cell_type": "markdown",
   "id": "4fac11f7",
   "metadata": {},
   "source": [
    "<h4>Feature scaling"
   ]
  },
  {
   "cell_type": "code",
   "execution_count": 32,
   "id": "2c7bc7a9",
   "metadata": {},
   "outputs": [],
   "source": [
    "X=df.drop(columns=['buy'])"
   ]
  },
  {
   "cell_type": "code",
   "execution_count": 33,
   "id": "8894869b",
   "metadata": {},
   "outputs": [],
   "source": [
    "#scaling numerical features\n",
    "scaler = StandardScaler()\n",
    "X=pd.DataFrame(scaler.fit_transform(X),columns=X.columns)"
   ]
  },
  {
   "cell_type": "code",
   "execution_count": 34,
   "id": "f30c1489",
   "metadata": {},
   "outputs": [],
   "source": [
    "y=df[['buy']]"
   ]
  },
  {
   "cell_type": "code",
   "execution_count": 35,
   "id": "1386cd9c",
   "metadata": {},
   "outputs": [
    {
     "data": {
      "text/html": [
       "<div>\n",
       "<style scoped>\n",
       "    .dataframe tbody tr th:only-of-type {\n",
       "        vertical-align: middle;\n",
       "    }\n",
       "\n",
       "    .dataframe tbody tr th {\n",
       "        vertical-align: top;\n",
       "    }\n",
       "\n",
       "    .dataframe thead th {\n",
       "        text-align: right;\n",
       "    }\n",
       "</style>\n",
       "<table border=\"1\" class=\"dataframe\">\n",
       "  <thead>\n",
       "    <tr style=\"text-align: right;\">\n",
       "      <th></th>\n",
       "      <th>campaign_var_1</th>\n",
       "      <th>campaign_var_2</th>\n",
       "      <th>products_purchased</th>\n",
       "      <th>user_activity_var_2</th>\n",
       "      <th>user_activity_var_4</th>\n",
       "      <th>user_activity_var_5</th>\n",
       "      <th>user_activity_var_6</th>\n",
       "      <th>user_activity_var_9</th>\n",
       "      <th>user_activity_var_11</th>\n",
       "      <th>diff_days</th>\n",
       "    </tr>\n",
       "  </thead>\n",
       "  <tbody>\n",
       "    <tr>\n",
       "      <th>0</th>\n",
       "      <td>-1.590548</td>\n",
       "      <td>-1.703251</td>\n",
       "      <td>0.830647</td>\n",
       "      <td>-0.082227</td>\n",
       "      <td>-0.107696</td>\n",
       "      <td>-0.42122</td>\n",
       "      <td>-0.895506</td>\n",
       "      <td>-0.107575</td>\n",
       "      <td>-0.507352</td>\n",
       "      <td>-0.599306</td>\n",
       "    </tr>\n",
       "    <tr>\n",
       "      <th>1</th>\n",
       "      <td>-1.302604</td>\n",
       "      <td>-2.085768</td>\n",
       "      <td>0.830647</td>\n",
       "      <td>-0.082227</td>\n",
       "      <td>-0.107696</td>\n",
       "      <td>-0.42122</td>\n",
       "      <td>-0.895506</td>\n",
       "      <td>-0.107575</td>\n",
       "      <td>-0.507352</td>\n",
       "      <td>-0.583493</td>\n",
       "    </tr>\n",
       "    <tr>\n",
       "      <th>2</th>\n",
       "      <td>0.713003</td>\n",
       "      <td>-1.320734</td>\n",
       "      <td>1.664531</td>\n",
       "      <td>-0.082227</td>\n",
       "      <td>-0.107696</td>\n",
       "      <td>-0.42122</td>\n",
       "      <td>-0.895506</td>\n",
       "      <td>-0.107575</td>\n",
       "      <td>-0.507352</td>\n",
       "      <td>-1.895966</td>\n",
       "    </tr>\n",
       "    <tr>\n",
       "      <th>3</th>\n",
       "      <td>-0.150828</td>\n",
       "      <td>0.209334</td>\n",
       "      <td>0.830647</td>\n",
       "      <td>-0.082227</td>\n",
       "      <td>-0.107696</td>\n",
       "      <td>-0.42122</td>\n",
       "      <td>-0.895506</td>\n",
       "      <td>-0.107575</td>\n",
       "      <td>-0.507352</td>\n",
       "      <td>3.395039</td>\n",
       "    </tr>\n",
       "    <tr>\n",
       "      <th>4</th>\n",
       "      <td>-0.726716</td>\n",
       "      <td>-0.173183</td>\n",
       "      <td>-0.837120</td>\n",
       "      <td>-0.082227</td>\n",
       "      <td>-0.107696</td>\n",
       "      <td>-0.42122</td>\n",
       "      <td>-0.895506</td>\n",
       "      <td>-0.107575</td>\n",
       "      <td>1.809936</td>\n",
       "      <td>-0.444339</td>\n",
       "    </tr>\n",
       "  </tbody>\n",
       "</table>\n",
       "</div>"
      ],
      "text/plain": [
       "   campaign_var_1  campaign_var_2  products_purchased  user_activity_var_2  \\\n",
       "0       -1.590548       -1.703251            0.830647            -0.082227   \n",
       "1       -1.302604       -2.085768            0.830647            -0.082227   \n",
       "2        0.713003       -1.320734            1.664531            -0.082227   \n",
       "3       -0.150828        0.209334            0.830647            -0.082227   \n",
       "4       -0.726716       -0.173183           -0.837120            -0.082227   \n",
       "\n",
       "   user_activity_var_4  user_activity_var_5  user_activity_var_6  \\\n",
       "0            -0.107696             -0.42122            -0.895506   \n",
       "1            -0.107696             -0.42122            -0.895506   \n",
       "2            -0.107696             -0.42122            -0.895506   \n",
       "3            -0.107696             -0.42122            -0.895506   \n",
       "4            -0.107696             -0.42122            -0.895506   \n",
       "\n",
       "   user_activity_var_9  user_activity_var_11  diff_days  \n",
       "0            -0.107575             -0.507352  -0.599306  \n",
       "1            -0.107575             -0.507352  -0.583493  \n",
       "2            -0.107575             -0.507352  -1.895966  \n",
       "3            -0.107575             -0.507352   3.395039  \n",
       "4            -0.107575              1.809936  -0.444339  "
      ]
     },
     "execution_count": 35,
     "metadata": {},
     "output_type": "execute_result"
    }
   ],
   "source": [
    "X.head()"
   ]
  },
  {
   "cell_type": "markdown",
   "id": "1f86b320",
   "metadata": {},
   "source": [
    "<h4> Train-test split"
   ]
  },
  {
   "cell_type": "code",
   "execution_count": 36,
   "id": "9e061408",
   "metadata": {
    "scrolled": true
   },
   "outputs": [],
   "source": [
    "#train-test split\n",
    "X_train, X_test, y_train, y_test = train_test_split(X, y, test_size=0.33, random_state=1)"
   ]
  },
  {
   "cell_type": "markdown",
   "id": "b3bddf90",
   "metadata": {},
   "source": [
    "<h4> Model building"
   ]
  },
  {
   "cell_type": "code",
   "execution_count": 37,
   "id": "3e193905",
   "metadata": {
    "scrolled": true
   },
   "outputs": [],
   "source": [
    "num_estimators = 100\n",
    "min_samples = 4\n",
    "\n",
    "rf = RandomForestClassifier(n_estimators=num_estimators,\n",
    "                            min_samples_split=min_samples)\n",
    "rf.fit(X_train, y_train.values.ravel())\n",
    "y_pred = rf.predict(X_test)\n",
    "y_pred = rf.predict(X_test)\n"
   ]
  },
  {
   "cell_type": "markdown",
   "id": "cd286122",
   "metadata": {},
   "source": [
    "<h4> Accuracy of the model"
   ]
  },
  {
   "cell_type": "code",
   "execution_count": 38,
   "id": "4eff5dfa",
   "metadata": {},
   "outputs": [
    {
     "name": "stdout",
     "output_type": "stream",
     "text": [
      "0.9744661095636026\n"
     ]
    }
   ],
   "source": [
    "y_test_predicted = rf.predict(X_test)\n",
    "accuracy = accuracy_score(y_test, y_pred)\n",
    "print(accuracy)"
   ]
  },
  {
   "cell_type": "markdown",
   "id": "21221ca0",
   "metadata": {},
   "source": [
    "<h4> Classification report"
   ]
  },
  {
   "cell_type": "code",
   "execution_count": 39,
   "id": "e0ecc5df",
   "metadata": {},
   "outputs": [
    {
     "name": "stdout",
     "output_type": "stream",
     "text": [
      "              precision    recall  f1-score   support\n",
      "\n",
      "           0       0.98      1.00      0.99     12252\n",
      "           1       0.91      0.57      0.70       672\n",
      "\n",
      "    accuracy                           0.97     12924\n",
      "   macro avg       0.94      0.78      0.84     12924\n",
      "weighted avg       0.97      0.97      0.97     12924\n",
      "\n"
     ]
    }
   ],
   "source": [
    "print(classification_report(y_test, y_pred))"
   ]
  },
  {
   "cell_type": "markdown",
   "id": "efba977f",
   "metadata": {},
   "source": [
    "<h4>Confusion matrix"
   ]
  },
  {
   "cell_type": "code",
   "execution_count": 40,
   "id": "48c743b1",
   "metadata": {},
   "outputs": [
    {
     "data": {
      "image/png": "[encoded data removed]",
      "text/plain": [
       "<Figure size 432x432 with 1 Axes>"
      ]
     },
     "metadata": {},
     "output_type": "display_data"
    }
   ],
   "source": [
    "sns.set_style(\"whitegrid\")\n",
    "sns.set(rc={'figure.figsize':(6,6)})\n",
    "cmat = confusion_matrix(y_test, y_test_predicted)\n",
    "plt.figure(figsize = (6, 6))\n",
    "sns.heatmap(cmat, annot = True, cmap = 'Paired', cbar = False, fmt=\"d\", xticklabels=['Not buy', 'buy'], yticklabels=['Not buy', 'buy']);"
   ]
  },
  {
   "cell_type": "markdown",
   "id": "3f3ad794",
   "metadata": {},
   "source": [
    "<h4> Pickling the model "
   ]
  },
  {
   "cell_type": "code",
   "execution_count": 41,
   "id": "c3041011",
   "metadata": {},
   "outputs": [],
   "source": [
    "pickle.dump(rf,open('model.pkl','wb'))\n",
    "pickled_model = pickle.load(open('model.pkl', 'rb'))"
   ]
  }
 ],
 "metadata": {
  "kernelspec": {
   "display_name": "Python 3 (ipykernel)",
   "language": "python",
   "name": "python3"
  },
  "language_info": {
   "codemirror_mode": {
    "name": "ipython",
    "version": 3
   },
   "file_extension": ".py",
   "mimetype": "text/x-python",
   "name": "python",
   "nbconvert_exporter": "python",
   "pygments_lexer": "ipython3",
   "version": "3.8.8"
  }
 },
 "nbformat": 4,
 "nbformat_minor": 5
}
